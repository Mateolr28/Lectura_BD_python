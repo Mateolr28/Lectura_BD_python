{
 "cells": [
  {
   "cell_type": "markdown",
   "metadata": {},
   "source": [
    "# Semana 3 - Clase 2\n",
    "\n",
    "# Reglas y Aplicaciones de la Probabilidad con el Dataset Titanic\n",
    "\n",
    "\n",
    "\n",
    "**Objetivo de la Clase**\n",
    "\n",
    "\n",
    "Aplicar las reglas de probabilidad utilizando el dataset público Titanic, explorando probabilidad condicional, la regla de la adición y la multiplicación a través de problemas reales."
   ]
  },
  {
   "cell_type": "markdown",
   "metadata": {},
   "source": [
    "## **1. Introducción al Dataset Titanic**\n",
    "\n",
    "El `dataset Titanic` contiene información sobre pasajeros del famoso barco, incluyendo variables como:\n",
    "\n",
    "+ Survived: 1 = Sí, 0 = No\n",
    "\n",
    "+ Pclass: Clase del pasajero (1, 2, 3)\n",
    "\n",
    "+ Sex: Género (male, female)\n",
    "\n",
    "+ Age: Edad del pasajero\n",
    "\n",
    "+ Fare: Tarifa pagada"
   ]
  },
  {
   "cell_type": "code",
   "execution_count": 1,
   "metadata": {},
   "outputs": [
    {
     "name": "stdout",
     "output_type": "stream",
     "text": [
      "   survived  pclass     sex   age  sibsp  parch     fare embarked  class  \\\n",
      "0         0       3    male  22.0      1      0   7.2500        S  Third   \n",
      "1         1       1  female  38.0      1      0  71.2833        C  First   \n",
      "2         1       3  female  26.0      0      0   7.9250        S  Third   \n",
      "3         1       1  female  35.0      1      0  53.1000        S  First   \n",
      "4         0       3    male  35.0      0      0   8.0500        S  Third   \n",
      "\n",
      "     who  adult_male deck  embark_town alive  alone  \n",
      "0    man        True  NaN  Southampton    no  False  \n",
      "1  woman       False    C    Cherbourg   yes  False  \n",
      "2  woman       False  NaN  Southampton   yes   True  \n",
      "3  woman       False    C  Southampton   yes  False  \n",
      "4    man        True  NaN  Southampton    no   True  \n"
     ]
    }
   ],
   "source": [
    "## Cargar base de datos de Titanic\n",
    "## https://www.kaggle.com/c/titanic/data\n",
    "## https://seaborn.pydata.org/generated/seaborn.load_dataset.html\n",
    "\n",
    "import seaborn as sns\n",
    "\n",
    "df = sns.load_dataset(\"titanic\")\n",
    "print(df.head())"
   ]
  },
  {
   "cell_type": "markdown",
   "metadata": {},
   "source": [
    "## **2. Análisis de Probabilidad con el Titanic**\n",
    "\n",
    "### 2.1. Regla de la Adición\n",
    "\n",
    "Ejemplo: ¿Cuál es la probabilidad de que un pasajero haya sido de primera clase o haya sobrevivido?\n",
    "\n",
    "**Fórmula:**\n",
    "$$\n",
    "P(A \\cup B) = P(A) + P(B) - P(A \\cap B)\n",
    "$$\n",
    "\n"
   ]
  },
  {
   "cell_type": "code",
   "execution_count": 2,
   "metadata": {},
   "outputs": [
    {
     "name": "stdout",
     "output_type": "stream",
     "text": [
      "Probabilidad de ser de primera clase o haber sobrevivido: 0.47\n"
     ]
    }
   ],
   "source": [
    "p_class1 = len(df[df['pclass'] == 1]) / len(df)\n",
    "p_survived = len(df[df['survived'] == 1]) / len(df)\n",
    "p_both = len(df[(df['pclass'] == 1) & (df['survived'] == 1)]) / len(df)\n",
    "\n",
    "p_union = p_class1 + p_survived - p_both\n",
    "print(f\"Probabilidad de ser de primera clase o haber sobrevivido: {p_union:.2f}\")"
   ]
  },
  {
   "cell_type": "markdown",
   "metadata": {},
   "source": [
    "### 2.2. Regla de la Multiplicación\n",
    "\n",
    "Ejemplo: ¿Cuál es la probabilidad de que un pasajero seleccionado al azar sea mujer y haya sobrevivido?\n",
    "\n",
    "**Formula:**\n",
    "$$\n",
    "P(A \\cap B) = P(A) * P(B|A) \n",
    "$$\n",
    "\n"
   ]
  },
  {
   "cell_type": "code",
   "execution_count": 3,
   "metadata": {},
   "outputs": [
    {
     "name": "stdout",
     "output_type": "stream",
     "text": [
      "Probabilidad de ser mujer y haber sobrevivido: 0.26\n"
     ]
    }
   ],
   "source": [
    "p_female = len(df[df['sex'] == 'female']) / len(df)\n",
    "p_surv_given_female = len(df[(df['sex'] == 'female') & (df['survived'] == 1)]) / len(df[df['sex'] == 'female'])\n",
    "\n",
    "p_intersection = p_female * p_surv_given_female\n",
    "print(f\"Probabilidad de ser mujer y haber sobrevivido: {p_intersection:.2f}\")"
   ]
  },
  {
   "cell_type": "markdown",
   "metadata": {},
   "source": [
    "### 2.3. Probabilidad Condicional\n",
    "\n",
    "Ejemplo: Si un pasajero era de primera clase, ¿cuál era la probabilidad de que sobreviviera?\n",
    "\n",
    "**Fórmula:**\n",
    "$$\n",
    "P(B|A) = \\frac{P(A \\cap B)}{P(A)}\n",
    "$$\n"
   ]
  },
  {
   "cell_type": "code",
   "execution_count": 4,
   "metadata": {},
   "outputs": [
    {
     "name": "stdout",
     "output_type": "stream",
     "text": [
      "Probabilidad de sobrevivir dado que era de primera clase: 0.63\n"
     ]
    }
   ],
   "source": [
    "p_surv_given_class1 = len(df[(df['pclass'] == 1) & (df['survived'] == 1)]) / len(df[df['pclass'] == 1])\n",
    "print(f\"Probabilidad de sobrevivir dado que era de primera clase: {p_surv_given_class1:.2f}\")"
   ]
  },
  {
   "cell_type": "markdown",
   "metadata": {},
   "source": [
    "## **3. Ejercicio**\n",
    "\n",
    "Si seleccionamos un pasajero al azar, ¿cuál es la probabilidad de que sea hombre o haya pagado una tarifa superior a 50?\n",
    "\n",
    "$$\n",
    "P(A \\cup B) = P(A) + P(B) - P(A \\cap B)\n",
    "$$"
   ]
  },
  {
   "cell_type": "code",
   "execution_count": 5,
   "metadata": {},
   "outputs": [
    {
     "name": "stdout",
     "output_type": "stream",
     "text": [
      "Probabilidad de ser hombre o haber pagado más de $50: 0.75\n"
     ]
    }
   ],
   "source": [
    "p_male = len(df[df['sex'] == 'male']) / len(df)\n",
    "p_fare50 = len(df[df['fare'] > 50]) / len(df)\n",
    "p_both = len(df[(df['sex'] == 'male') & (df['fare'] > 50)]) / len(df)\n",
    "\n",
    "p_union = p_male + p_fare50 - p_both\n",
    "print(f\"Probabilidad de ser hombre o haber pagado más de $50: {p_union:.2f}\")"
   ]
  },
  {
   "cell_type": "markdown",
   "metadata": {},
   "source": [
    "## **4. Conclusión Final**\n",
    "\n",
    "+ El dataset Titanic permite aplicar la probabilidad en situaciones reales.\n",
    "\n",
    "+ Las reglas de adición, multiplicación y probabilidad condicional ayudan a comprender relaciones entre variables.\n",
    "\n",
    "+ Python facilita el cálculo de probabilidades en datasets grandes."
   ]
  }
 ],
 "metadata": {
  "kernelspec": {
   "display_name": "env_analisis_prob",
   "language": "python",
   "name": "python3"
  },
  "language_info": {
   "codemirror_mode": {
    "name": "ipython",
    "version": 3
   },
   "file_extension": ".py",
   "mimetype": "text/x-python",
   "name": "python",
   "nbconvert_exporter": "python",
   "pygments_lexer": "ipython3",
   "version": "3.13.2"
  }
 },
 "nbformat": 4,
 "nbformat_minor": 2
}
